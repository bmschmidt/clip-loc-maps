{
 "cells": [
  {
   "cell_type": "code",
   "execution_count": 1,
   "metadata": {},
   "outputs": [],
   "source": [
    "# Prep & dependencies\n",
    "\n",
    "import requests, os\n",
    "import torch, time\n",
    "from transformers import CLIPModel, CLIPProcessor\n",
    "\n",
    "from IPython.display import display, Image, HTML\n",
    "import torch.nn.functional as F  # Import softmax from PyTorch"
   ]
  },
  {
   "cell_type": "code",
   "execution_count": null,
   "metadata": {},
   "outputs": [],
   "source": [
    "# Run to load base model\n",
    "model = CLIPModel.from_pretrained(\"openai/clip-vit-base-patch32\")\n",
    "processor = CLIPProcessor.from_pretrained(\"openai/clip-vit-base-patch32\")\n",
    "\n",
    "# Load base beto\n",
    "beto = torch.load('search/beto.pt')\n",
    "beto_idx = torch.load('search/beto_idx.pt')\n",
    "beto_normalized = torch.load('search/beto_normalized.pt') \n",
    "print(beto.shape)"
   ]
  },
  {
   "cell_type": "code",
   "execution_count": 3,
   "metadata": {},
   "outputs": [
    {
     "name": "stdout",
     "output_type": "stream",
     "text": [
      "torch.Size([408896, 512])\n"
     ]
    }
   ],
   "source": [
    "# DEPRECATED\n",
    "# Run to load fine-tuned model\n",
    "def load_fine_tuned_model(model_path):\n",
    "    checkpoint = torch.load(model_path, map_location=torch.device('cpu'))\n",
    "    model = CLIPModel.from_pretrained(\"openai/clip-vit-base-patch32\", state_dict=None)\n",
    "    model.load_state_dict(checkpoint['model_state_dict'])\n",
    "    model.eval()\n",
    "    return model\n",
    "\n",
    "# Load fine-tuned model\n",
    "model_path = \"fine-tuning/last_fine_tuned_clip.pt\"  # Adjust this to your model's file path\n",
    "model = load_fine_tuned_model(model_path)\n",
    "processor = CLIPProcessor.from_pretrained(\"openai/clip-vit-base-patch32\")\n",
    "\n",
    "# Load fine-tuned beto\n",
    "beto = torch.load('beto_ft.pt')\n",
    "beto_idx = torch.load('beto_idx_ft.pt')\n",
    "beto_normalized = torch.load('beto_normalized_ft.pt') \n",
    "print(beto.shape)"
   ]
  },
  {
   "cell_type": "markdown",
   "metadata": {},
   "source": [
    "# Text search"
   ]
  },
  {
   "cell_type": "code",
   "execution_count": null,
   "metadata": {},
   "outputs": [],
   "source": [
    "# Make sure 'processor', 'model', 'beto', and 'beto_idx' are predefined!\n",
    "results = int(input(\"Enter the number of results to display: \"))\n",
    "query = input(\"Enter the query to search for: \")\n",
    "if \"map\" not in query:\n",
    "    query += \" map\"\n",
    "print(query)\n",
    "start = time.time()\n",
    "\n",
    "# Preprocess and get text embeddings in batch if possible\n",
    "text_preprocess = processor(text=query, return_tensors=\"pt\", padding=True)\n",
    "text_embeds = model.get_text_features(**text_preprocess)\n",
    "text_embeds = text_embeds / text_embeds.norm(p=2, dim=-1, keepdim=True)\n",
    "logit_scale = model.logit_scale.exp()\n",
    "# Compute similarities (logits) for all pairs, assuming 'beto' is compatible in size\n",
    "logits = torch.matmul(beto_normalized, text_embeds.t()) * logit_scale\n",
    "\n",
    "# First, find the top k logits\n",
    "top_logits, top_indices = torch.topk(logits, k=results, dim=0)\n",
    "    \n",
    "# Display the results\n",
    "for i in range(results):\n",
    "    idx = top_indices[i].item()\n",
    "    # Use top_logits for displaying similarity\n",
    "    print(f\"Result {i+1}: {beto_idx[idx]} with similarity {top_logits[i].item():.3f}\")\n",
    "\n",
    "image_urls = [beto_idx[idx] for idx in top_indices]\n",
    "images_html = \"\".join(f\"<img style='width: 400px; margin: 0px; float: left; border: 1px solid black;' src='{url}' />\" for url in image_urls)\n",
    "display(HTML(images_html))\n",
    "\n",
    "print(\"Time: {:.3f} seconds\".format(time.time()-start))"
   ]
  },
  {
   "cell_type": "markdown",
   "metadata": {},
   "source": [
    "# Image search"
   ]
  },
  {
   "cell_type": "code",
   "execution_count": null,
   "metadata": {},
   "outputs": [],
   "source": [
    "from PIL import Image\n",
    "\n",
    "# Assuming 'processor', 'model', 'beto', and 'beto_idx' are predefined\n",
    "results = int(input(\"Enter the number of results: \"))\n",
    "query = input(\"Enter the URL of the image to search for: \")\n",
    "\n",
    "start = time.time()\n",
    "\n",
    "# Preprocess and get text embeddings in batch if possible (qimg stands for query image)\n",
    "image = Image.open(requests.get(query, stream=True).raw)\n",
    "qimg_preprocess = processor(images = image, return_tensors=\"pt\", padding=True) \n",
    "qimg_embeds = model.get_image_features(**qimg_preprocess) \n",
    "qimg_embeds = qimg_embeds / qimg_embeds.norm(p=2, dim=-1, keepdim=True)\n",
    "logit_scale = model.logit_scale.exp()\n",
    "print(logit_scale)\n",
    "# Compute similarities (logits) for all pairs, assuming 'beto' is compatible in size\n",
    "logits = torch.matmul(beto_normalized, qimg_embeds.t()) * logit_scale\n",
    "\n",
    "# Directly find top-k values and indices for each query\n",
    "top_values, top_indices = torch.topk(logits, k=results, dim=0)\n",
    "\n",
    "# Display the results\n",
    "for i in range(results):\n",
    "    idx = top_indices[i].item()\n",
    "    print(f\"Result {i+1}: {beto_idx[idx]} with similarity {top_values[i].item():.3f}\")\n",
    "\n",
    "image_urls = [beto_idx[idx] for idx in top_indices]\n",
    "images_html = \"\".join(f\"<img style='width: 400px; margin: 0px; float: left; border: 1px solid black;' src='{url}' />\" for url in image_urls)\n",
    "display(HTML(images_html))\n",
    "\n",
    "print(\"Time: {:.3f} seconds\".format(time.time()-start))"
   ]
  },
  {
   "cell_type": "markdown",
   "metadata": {},
   "source": [
    "# Text + image search"
   ]
  },
  {
   "cell_type": "code",
   "execution_count": null,
   "metadata": {},
   "outputs": [],
   "source": [
    "from PIL import Image\n",
    "import numpy as np\n",
    "\n",
    "# Input for both image and text\n",
    "results = int(input(\"Enter the number of results: \"))\n",
    "img_query = input(\"Enter the URL of the image to search for: \")\n",
    "text_query = input(\"Enter the text query to search for: \")\n",
    "if \"map\" not in text_query: \n",
    "    text_query = \"a \" + text_query + \" map\"\n",
    "scaling = float(input(\"Enter the scaling factor for the combined query: \"))\n",
    "start = time.time()\n",
    "\n",
    "# Preprocess and get image embeddings (qimg stands for query image)\n",
    "qimg = Image.open(requests.get(img_query, stream=True).raw)\n",
    "qimg_preprocess = processor(images = qimg, return_tensors=\"pt\", padding=True)\n",
    "qimg_embeds = model.get_image_features(**qimg_preprocess)\n",
    "qimg_embeds = qimg_embeds / qimg_embeds.norm(p=2, dim=-1, keepdim=True)\n",
    "\n",
    "# Preprocess and get text embeddings (qtext stands for query text)\n",
    "text_preprocess = processor(text=text_query, return_tensors=\"pt\", padding=True)\n",
    "qtext_embeds = model.get_text_features(**text_preprocess)\n",
    "qtext_embeds = qtext_embeds / qtext_embeds.norm(p=2, dim=-1, keepdim=True)\n",
    "\n",
    "qimg_embeds_input = ((1 - scaling) * qimg_embeds)/2\n",
    "qtext_embeds_input = ((1 + scaling) * qtext_embeds)/2\n",
    "# Create a tensor for the combined query\n",
    "combined_embeds = torch.add(qimg_embeds_input, qtext_embeds_input) / 2\n",
    "logit_scale = model.logit_scale.exp()\n",
    "\n",
    "logits = torch.matmul(beto_normalized, combined_embeds.t()) * logit_scale\n",
    "\n",
    "# Directly find top-k values and indices for each query\n",
    "top_values, top_indices = torch.topk(logits, k=results, dim=0)\n",
    "\n",
    "# Display the results\n",
    "for i in range(results):\n",
    "    idx = top_indices[i].item()\n",
    "    print(f\"Result {i+1}: {beto_idx[idx]} with similarity {top_values[i].item():.3f}\")\n",
    "\n",
    "image_urls = [beto_idx[idx] for idx in top_indices]\n",
    "images_html = \"\".join(f\"<img style='width: 400px; margin: 0px; float: left; border: 1px solid black;' src='{url}' />\" for url in image_urls)\n",
    "display(HTML(images_html))\n",
    "\n",
    "print(\"Time: {:.3f} seconds\".format(time.time()-start))"
   ]
  }
 ],
 "metadata": {
  "kernelspec": {
   "display_name": "base",
   "language": "python",
   "name": "python3"
  },
  "language_info": {
   "codemirror_mode": {
    "name": "ipython",
    "version": 3
   },
   "file_extension": ".py",
   "mimetype": "text/x-python",
   "name": "python",
   "nbconvert_exporter": "python",
   "pygments_lexer": "ipython3",
   "version": "3.1.-1"
  }
 },
 "nbformat": 4,
 "nbformat_minor": 2
}
