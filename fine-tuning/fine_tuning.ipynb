{
 "cells": [
  {
   "cell_type": "code",
   "execution_count": 120,
   "metadata": {},
   "outputs": [],
   "source": [
    "import torch\n",
    "from PIL import Image\n",
    "from transformers import CLIPModel, CLIPProcessor\n",
    "\n",
    "import torch.nn as nn\n",
    "import torch.optim as optim\n",
    "from torch.utils.data import Dataset, DataLoader\n",
    "from torchvision.transforms import Compose\n",
    "from PIL import Image\n",
    "from tqdm import tqdm\n",
    "import glob\n",
    "from transformers import get_cosine_schedule_with_warmup\n",
    "from transformers import CLIPModel, CLIPProcessor"
   ]
  },
  {
   "cell_type": "markdown",
   "metadata": {},
   "source": [
    "# Building the dataset"
   ]
  },
  {
   "cell_type": "code",
   "execution_count": 121,
   "metadata": {},
   "outputs": [
    {
     "name": "stdout",
     "output_type": "stream",
     "text": [
      "25344 25344\n"
     ]
    }
   ],
   "source": [
    "# Creating the dataset!!!\n",
    "# I'm using 30,000 randomly selected images and their captions from the loc.gov API\n",
    "\n",
    "import pandas as pd \n",
    "import random, os, requests, json\n",
    "from datetime import datetime\n",
    "os.chdir(\"/Users/jamiemahowald/Documents/Python/Fine-tuning\")\n",
    "\n",
    "merged_files = pd.read_csv(\"merged_files.csv\")\n",
    "list_image_path = torch.load(\"list_image_path.pt\")\n",
    "list_txt = torch.load(\"list_txt.pt\")\n",
    "print(len(list_image_path), len(list_txt))"
   ]
  },
  {
   "cell_type": "code",
   "execution_count": 16,
   "metadata": {},
   "outputs": [],
   "source": [
    "# Get a caption for the model from loc.gov API\n",
    "\n",
    "def get_resource(row):\n",
    "    iiif_url = merged_files.iloc[row]['file_url'].replace(\"pct:100\", \"2000,\")\n",
    "    resource_json_url = merged_files.iloc[row]['resource_url']+\"?fo=json&sp=\" + str(int(merged_files.iloc[row]['segment_num']+1))\n",
    "    response = requests.get(resource_json_url)\n",
    "    if response.status_code == 200:\n",
    "        resource_dict = response.json()\n",
    "        return iiif_url, resource_dict\n",
    "    else:\n",
    "        print(f\"First invalid identifier {resource_json_url}. Status code: {response.status_code}\")\n",
    "        return None, None\n",
    "    \n",
    "def remove_last_period(s):\n",
    "    pos = s.rfind('.')\n",
    "    if pos == len(s) - 1:\n",
    "        return s[:pos] + \",\"\n",
    "    return s\n",
    "\n",
    "def get_caption(row_num):\n",
    "    iiif_url, resource_dict = get_resource(row_num)\n",
    "    with open(\"example_json.json\", \"w\") as file:\n",
    "        json.dump(resource_dict, file, indent = 4)\n",
    "    if iiif_url is None:\n",
    "        return None, None\n",
    "    else:\n",
    "        if not \"map\" in resource_dict['item']['title'].lower():\n",
    "            resource_dict['item']['title'] = \"Map of \" + resource_dict['item']['title'] \n",
    "        try:\n",
    "            date_obj = datetime.strptime(resource_dict['item']['date'], \"%Y-%m-%d\")\n",
    "            formatted_date = date_obj.strftime(\"%B %d, %Y\")\n",
    "        except ValueError:\n",
    "            try:\n",
    "                date_obj = datetime.strptime(resource_dict['item']['date'], \"%Y-%m\")\n",
    "                formatted_date = date_obj.strftime(\"%B %Y\") \n",
    "            except ValueError:\n",
    "                formatted_date = resource_dict['item']['date']\n",
    "        if \"January 01\" in formatted_date:\n",
    "            formatted_date = formatted_date.replace(\"January 01, \", \"\")\n",
    "        title = remove_last_period(resource_dict['item']['title']) + \" from \" + formatted_date\n",
    "        return iiif_url, title    "
   ]
  },
  {
   "cell_type": "markdown",
   "metadata": {},
   "source": [
    "# Fine-tuning"
   ]
  },
  {
   "cell_type": "code",
   "execution_count": 32,
   "metadata": {},
   "outputs": [
    {
     "name": "stderr",
     "output_type": "stream",
     "text": [
      "Downloading image: 100%|██████████| 50/50 [02:58<00:00,  3.57s/it]\n"
     ]
    }
   ],
   "source": [
    "rand_ints = random.sample(range(300000, len(merged_files)), 50)\n",
    "\n",
    "list_image_path = []\n",
    "list_txt = []\n",
    "\n",
    "for i in tqdm(rand_ints, desc = \"Downloading image: \"):\n",
    "    iiif_url, title = get_caption(i)\n",
    "    if iiif_url is None:\n",
    "        continue\n",
    "    iiif_id = iiif_url.split(\"/\")[-5]\n",
    "    response = requests.get(iiif_url)\n",
    "    with open(f\"images/train/{iiif_id}.jpg\", \"wb\") as file:\n",
    "        file.write(response.content)\n",
    "\n",
    "    list_image_path.append(f\"images/train/{iiif_id}.jpg\")\n",
    "    list_txt.append(title)"
   ]
  },
  {
   "cell_type": "code",
   "execution_count": 22,
   "metadata": {},
   "outputs": [
    {
     "name": "stderr",
     "output_type": "stream",
     "text": [
      "Epoch loading: 100%|██████████| 10/10 [00:26<00:00,  2.61s/it]\n"
     ]
    }
   ],
   "source": [
    "import clip\n",
    "BATCH_SIZE = 4\n",
    "EPOCH = 10\n",
    "\n",
    "device = \"cuda:0\" if torch.cuda.is_available() else \"cpu\" # If using GPU then use mixed precision training.\n",
    "model, preprocess = clip.load(\"ViT-B/32\",device=device,jit=False) #Must set jit=False for training\n",
    "\n",
    "class image_title_dataset(Dataset):\n",
    "    def __init__(self, list_image_path,list_txt):\n",
    "\n",
    "        self.image_path = list_image_path\n",
    "        self.title  = clip.tokenize(list_txt) #you can tokenize everything at once in here(slow at the beginning), or tokenize it in the training loop.\n",
    "\n",
    "    def __len__(self):\n",
    "        return len(self.title)\n",
    "\n",
    "    def __getitem__(self, idx):\n",
    "        image = preprocess(Image.open(self.image_path[idx])) # Image from PIL module\n",
    "        title = self.title[idx]\n",
    "        return image,title\n",
    "\n",
    "# use your own data\n",
    "dataset = image_title_dataset(list_image_path,list_txt)\n",
    "train_dataloader = DataLoader(dataset,batch_size = BATCH_SIZE) #Define your own dataloader\n",
    "\n",
    "#https://github.com/openai/CLIP/issues/57\n",
    "def convert_models_to_fp32(model): \n",
    "    for p in model.parameters(): \n",
    "        p.data = p.data.float() \n",
    "        p.grad.data = p.grad.data.float() \n",
    "\n",
    "\n",
    "if device == \"cpu\":\n",
    "  model.float()\n",
    "else :\n",
    "  clip.model.convert_weights(model) # Actually this line is unnecessary since clip by default already on float16\n",
    "\n",
    "loss_img = nn.CrossEntropyLoss()\n",
    "loss_txt = nn.CrossEntropyLoss()\n",
    "optimizer = optim.Adam(model.parameters(), lr=5e-5,betas=(0.9,0.98),eps=1e-6,weight_decay=0.2) #Params used from paper, the lr is smaller, more safe for fine tuning to new dataset\n",
    "\n",
    "# add your own code to track the training progress.\n",
    "for epoch in tqdm(range(EPOCH), desc = \"Epoch loading: \"):\n",
    "  for batch in train_dataloader :\n",
    "      optimizer.zero_grad()\n",
    "\n",
    "      images,texts = batch \n",
    "    \n",
    "      images= images.to(device)\n",
    "      texts = texts.to(device)\n",
    "    \n",
    "      logits_per_image, logits_per_text = model(images, texts)\n",
    "\n",
    "      ground_truth = torch.arange(len(images),dtype=torch.long,device=device)\n",
    "\n",
    "      total_loss = (loss_img(logits_per_image,ground_truth) + loss_txt(logits_per_text,ground_truth))/2\n",
    "      total_loss.backward()\n",
    "      if device == \"cpu\":\n",
    "         optimizer.step()\n",
    "      else : \n",
    "        convert_models_to_fp32(model)\n",
    "        optimizer.step()\n",
    "        clip.model.convert_weights(model)"
   ]
  },
  {
   "cell_type": "code",
   "execution_count": 25,
   "metadata": {},
   "outputs": [],
   "source": [
    "torch.save({\n",
    "        'epoch': epoch,\n",
    "        'model_state_dict': model.state_dict(),\n",
    "        'optimizer_state_dict': optimizer.state_dict(),\n",
    "        'loss': total_loss,\n",
    "        }, f\"fine_tuned_clip.pt\") #just change to your preferred folder/filename"
   ]
  },
  {
   "cell_type": "code",
   "execution_count": 3,
   "metadata": {},
   "outputs": [],
   "source": [
    "import random\n",
    "import torch\n",
    "import pandas as pd\n",
    "merged_files = pd.read_csv(\"merged_files.csv\")"
   ]
  },
  {
   "cell_type": "code",
   "execution_count": 22,
   "metadata": {},
   "outputs": [
    {
     "data": {
      "text/plain": [
       "'https://tile.loc.gov/image-services/iiif/service:gmd:gmd380:g3804:g3804o:pm010990/full/pct:50/0/default.jpg'"
      ]
     },
     "metadata": {},
     "output_type": "display_data"
    },
    {
     "data": {
      "text/plain": [
       "'A map of Oriskany Falls, N.Y, from 1891. Aerial view of village. LC copy imperfect: Torn, taped, fold-lined, faded, stained at lower edge. Includes index to points of interest.'"
      ]
     },
     "metadata": {},
     "output_type": "display_data"
    }
   ],
   "source": [
    "list_image_path = torch.load(\"list_image_path.pt\")\n",
    "list_txt = torch.load(\"list_txt.pt\")\n",
    "num = 45010\n",
    "link = \"https://tile.loc.gov/image-services/iiif/\" + list_image_path[num].split(\"/\")[-1].replace(\".jpg\", \"\") + \"/full/pct:50/0/default.jpg\"\n",
    "display(link, list_txt[num])"
   ]
  },
  {
   "cell_type": "code",
   "execution_count": 56,
   "metadata": {},
   "outputs": [
    {
     "name": "stdout",
     "output_type": "stream",
     "text": [
      "1\n",
      "['Maps of California--regions San Jacinto-San M, from 1800.'\n",
      " 'Maps of California--regions San Jacinto-San M, from 1800.']\n"
     ]
    }
   ],
   "source": [
    "df = pd.DataFrame({\"path\": list_image_path, \"title\": list_txt})\n",
    "print(df.path.duplicated().sum())\n",
    "for path in df.path[df.path.duplicated()].values:\n",
    "    print(df[df.path == path].title.values)\n"
   ]
  },
  {
   "cell_type": "markdown",
   "metadata": {},
   "source": [
    "# Dataset creation"
   ]
  },
  {
   "cell_type": "code",
   "execution_count": 7,
   "metadata": {},
   "outputs": [
    {
     "data": {
      "text/plain": [
       "CLIPModel(\n",
       "  (text_model): CLIPTextTransformer(\n",
       "    (embeddings): CLIPTextEmbeddings(\n",
       "      (token_embedding): Embedding(49408, 512)\n",
       "      (position_embedding): Embedding(77, 512)\n",
       "    )\n",
       "    (encoder): CLIPEncoder(\n",
       "      (layers): ModuleList(\n",
       "        (0-11): 12 x CLIPEncoderLayer(\n",
       "          (self_attn): CLIPAttention(\n",
       "            (k_proj): Linear(in_features=512, out_features=512, bias=True)\n",
       "            (v_proj): Linear(in_features=512, out_features=512, bias=True)\n",
       "            (q_proj): Linear(in_features=512, out_features=512, bias=True)\n",
       "            (out_proj): Linear(in_features=512, out_features=512, bias=True)\n",
       "          )\n",
       "          (layer_norm1): LayerNorm((512,), eps=1e-05, elementwise_affine=True)\n",
       "          (mlp): CLIPMLP(\n",
       "            (activation_fn): QuickGELUActivation()\n",
       "            (fc1): Linear(in_features=512, out_features=2048, bias=True)\n",
       "            (fc2): Linear(in_features=2048, out_features=512, bias=True)\n",
       "          )\n",
       "          (layer_norm2): LayerNorm((512,), eps=1e-05, elementwise_affine=True)\n",
       "        )\n",
       "      )\n",
       "    )\n",
       "    (final_layer_norm): LayerNorm((512,), eps=1e-05, elementwise_affine=True)\n",
       "  )\n",
       "  (vision_model): CLIPVisionTransformer(\n",
       "    (embeddings): CLIPVisionEmbeddings(\n",
       "      (patch_embedding): Conv2d(3, 768, kernel_size=(32, 32), stride=(32, 32), bias=False)\n",
       "      (position_embedding): Embedding(50, 768)\n",
       "    )\n",
       "    (pre_layrnorm): LayerNorm((768,), eps=1e-05, elementwise_affine=True)\n",
       "    (encoder): CLIPEncoder(\n",
       "      (layers): ModuleList(\n",
       "        (0-11): 12 x CLIPEncoderLayer(\n",
       "          (self_attn): CLIPAttention(\n",
       "            (k_proj): Linear(in_features=768, out_features=768, bias=True)\n",
       "            (v_proj): Linear(in_features=768, out_features=768, bias=True)\n",
       "            (q_proj): Linear(in_features=768, out_features=768, bias=True)\n",
       "            (out_proj): Linear(in_features=768, out_features=768, bias=True)\n",
       "          )\n",
       "          (layer_norm1): LayerNorm((768,), eps=1e-05, elementwise_affine=True)\n",
       "          (mlp): CLIPMLP(\n",
       "            (activation_fn): QuickGELUActivation()\n",
       "            (fc1): Linear(in_features=768, out_features=3072, bias=True)\n",
       "            (fc2): Linear(in_features=3072, out_features=768, bias=True)\n",
       "          )\n",
       "          (layer_norm2): LayerNorm((768,), eps=1e-05, elementwise_affine=True)\n",
       "        )\n",
       "      )\n",
       "    )\n",
       "    (post_layernorm): LayerNorm((768,), eps=1e-05, elementwise_affine=True)\n",
       "  )\n",
       "  (visual_projection): Linear(in_features=768, out_features=512, bias=False)\n",
       "  (text_projection): Linear(in_features=512, out_features=512, bias=False)\n",
       ")"
      ]
     },
     "execution_count": 7,
     "metadata": {},
     "output_type": "execute_result"
    }
   ],
   "source": [
    "# figuring shit out\n",
    "import torch\n",
    "from transformers import CLIPModel, CLIPProcessor\n",
    "from torch.utils.data import Dataset, DataLoader\n",
    "from PIL import Image\n",
    "import pandas as pd\n",
    "import os, torch\n",
    "from tqdm import tqdm\n",
    "import torch.nn as nn #Keep if changing loss function\n",
    "import torch.optim as optim\n",
    "import torch.nn.functional as Floss\n",
    "\n",
    "os.chdir(\"/Users/jamiemahowald/Documents/Python/Fine-tuning\")\n",
    "list_image_path = torch.load(\"list_image_path.pt\")\n",
    "list_image_path = list_image_path[0:2000]\n",
    "list_txt = torch.load(\"list_txt.pt\")\n",
    "list_txt = list_txt[0:2000]\n",
    "\n",
    "device = \"cuda\" if torch.cuda.is_available() else \"cpu\"\n",
    "processor = CLIPProcessor.from_pretrained(\"openai/clip-vit-base-patch32\")\n",
    "model = CLIPModel.from_pretrained(\"openai/clip-vit-base-patch32\")\n",
    "model.to(device)"
   ]
  },
  {
   "cell_type": "code",
   "execution_count": 83,
   "metadata": {},
   "outputs": [],
   "source": [
    "# Defining the image_title_datset class (image & path always come before text)\n",
    "class image_title_dataset(Dataset):\n",
    "    def __init__(self, list_image_path, list_txt):\n",
    "        self.image_path = list_image_path\n",
    "        self.texts = list_txt\n",
    "\n",
    "    def __len__(self):\n",
    "        return len(self.texts) if len(self.texts) == len(self.image_path) else Exception\n",
    "    \n",
    "    def __getitem__(self, idx):\n",
    "        image_path = self.image_path[idx]\n",
    "        text = self.texts[idx]\n",
    "        return image_path, text"
   ]
  },
  {
   "cell_type": "code",
   "execution_count": 85,
   "metadata": {},
   "outputs": [],
   "source": [
    "def collate_fn(batch):\n",
    "    processor = CLIPProcessor.from_pretrained(\"openai/clip-vit-base-patch32\")\n",
    "    texts = []\n",
    "    images = []\n",
    "\n",
    "    for item in batch:\n",
    "        try:\n",
    "            image = Image.open(item[0]).convert(\"RGB\")\n",
    "            images.append(image)\n",
    "            texts.append(item[1])\n",
    "        except:\n",
    "            continue\n",
    "\n",
    "    batch = processor(text=texts, images=images, return_tensors=\"pt\", padding=True, truncation=True)\n",
    "    return batch"
   ]
  },
  {
   "cell_type": "code",
   "execution_count": 86,
   "metadata": {},
   "outputs": [],
   "source": [
    "LEARNING_RATE = 2e-5\n",
    "TEMPERATURE = 0.07\n",
    "EPOCH = 1\n",
    "\n",
    "dataset = image_title_dataset(list_image_path, list_txt)\n",
    "train_dataloader = DataLoader(dataset, batch_size = 10, collate_fn = collate_fn, shuffle=True)\n",
    "optimizer = torch.optim.Adam(model.parameters(), lr = LEARNING_RATE, betas=(0.9, 0.98), eps=1e-6, weight_decay=0.2)"
   ]
  },
  {
   "cell_type": "code",
   "execution_count": 87,
   "metadata": {},
   "outputs": [
    {
     "name": "stdout",
     "output_type": "stream",
     "text": [
      "Starting epoch 1\n"
     ]
    },
    {
     "name": "stderr",
     "output_type": "stream",
     "text": [
      "Epoch 1/1: 100%|██████████| 200/200 [10:05<00:00,  3.03s/batch]\n"
     ]
    },
    {
     "name": "stdout",
     "output_type": "stream",
     "text": [
      "Epoch 1/1, Total Loss: 679.6482626199722\n",
      "Epoch 1/1, Average Loss: 3.398241313099861\n",
      "Starting epoch 2\n"
     ]
    },
    {
     "name": "stderr",
     "output_type": "stream",
     "text": [
      "Epoch 2/1: 100%|██████████| 200/200 [09:43<00:00,  2.92s/batch]\n"
     ]
    },
    {
     "name": "stdout",
     "output_type": "stream",
     "text": [
      "Epoch 2/1, Total Loss: 358.2243068218231\n",
      "Epoch 2/1, Average Loss: 1.7911215341091156\n",
      "Starting epoch 3\n"
     ]
    },
    {
     "name": "stderr",
     "output_type": "stream",
     "text": [
      "Epoch 3/1: 100%|██████████| 200/200 [09:14<00:00,  2.77s/batch]\n"
     ]
    },
    {
     "name": "stdout",
     "output_type": "stream",
     "text": [
      "Epoch 3/1, Total Loss: 356.58969032764435\n",
      "Epoch 3/1, Average Loss: 1.7829484516382217\n",
      "Starting epoch 4\n"
     ]
    },
    {
     "name": "stderr",
     "output_type": "stream",
     "text": [
      "Epoch 4/1: 100%|██████████| 200/200 [09:09<00:00,  2.75s/batch]\n"
     ]
    },
    {
     "name": "stdout",
     "output_type": "stream",
     "text": [
      "Epoch 4/1, Total Loss: 347.07016694545746\n",
      "Epoch 4/1, Average Loss: 1.7353508347272872\n",
      "Starting epoch 5\n"
     ]
    },
    {
     "name": "stderr",
     "output_type": "stream",
     "text": [
      "Epoch 5/1: 100%|██████████| 200/200 [08:39<00:00,  2.60s/batch]\n"
     ]
    },
    {
     "name": "stdout",
     "output_type": "stream",
     "text": [
      "Epoch 5/1, Total Loss: 364.3801726102829\n",
      "Epoch 5/1, Average Loss: 1.8219008630514144\n",
      "Starting epoch 6\n"
     ]
    },
    {
     "name": "stderr",
     "output_type": "stream",
     "text": [
      "Epoch 6/1: 100%|██████████| 200/200 [08:29<00:00,  2.55s/batch]\n"
     ]
    },
    {
     "name": "stdout",
     "output_type": "stream",
     "text": [
      "Epoch 6/1, Total Loss: 366.3358316421509\n",
      "Epoch 6/1, Average Loss: 1.8316791582107543\n",
      "Starting epoch 7\n"
     ]
    },
    {
     "name": "stderr",
     "output_type": "stream",
     "text": [
      "Epoch 7/1: 100%|██████████| 200/200 [08:42<00:00,  2.61s/batch]\n"
     ]
    },
    {
     "name": "stdout",
     "output_type": "stream",
     "text": [
      "Epoch 7/1, Total Loss: 361.5951716899872\n",
      "Epoch 7/1, Average Loss: 1.807975858449936\n",
      "Starting epoch 8\n"
     ]
    },
    {
     "name": "stderr",
     "output_type": "stream",
     "text": [
      "Epoch 8/1: 100%|██████████| 200/200 [09:36<00:00,  2.88s/batch]\n"
     ]
    },
    {
     "name": "stdout",
     "output_type": "stream",
     "text": [
      "Epoch 8/1, Total Loss: 380.1901181936264\n",
      "Epoch 8/1, Average Loss: 1.9009505909681321\n",
      "Starting epoch 9\n"
     ]
    },
    {
     "name": "stderr",
     "output_type": "stream",
     "text": [
      "Epoch 9/1: 100%|██████████| 200/200 [09:04<00:00,  2.72s/batch]\n"
     ]
    },
    {
     "name": "stdout",
     "output_type": "stream",
     "text": [
      "Epoch 9/1, Total Loss: 380.55764973163605\n",
      "Epoch 9/1, Average Loss: 1.9027882486581802\n",
      "Starting epoch 10\n"
     ]
    },
    {
     "name": "stderr",
     "output_type": "stream",
     "text": [
      "Epoch 10/1:  56%|█████▌    | 111/200 [04:46<03:50,  2.59s/batch]"
     ]
    },
    {
     "ename": "",
     "evalue": "",
     "output_type": "error",
     "traceback": [
      "\u001b[1;31mThe Kernel crashed while executing code in the current cell or a previous cell. \n",
      "\u001b[1;31mPlease review the code in the cell(s) to identify a possible cause of the failure. \n",
      "\u001b[1;31mClick <a href='https://aka.ms/vscodeJupyterKernelCrash'>here</a> for more info. \n",
      "\u001b[1;31mView Jupyter <a href='command:jupyter.viewOutput'>log</a> for further details."
     ]
    }
   ],
   "source": [
    "for epoch in range(15):\n",
    "    print(f\"Starting epoch {epoch+1}\")\n",
    "    total_loss = 0  # Initialize total loss for the epoch\n",
    "\n",
    "    for batch in tqdm(train_dataloader, desc=f\"Epoch {epoch+1}/{EPOCH}\", unit=\"batch\"):\n",
    "        # Assuming `batch` is a dictionary or BatchEncoding object returned by the tokenizer\n",
    "        optimizer.zero_grad()\n",
    "        # Prepare inputs and forward pass\n",
    "        inputs = {k: v.to(device) for k, v in batch.items()}\n",
    "        outputs = model(**inputs)\n",
    "\n",
    "        # Get the logits from the model\n",
    "        logits_per_image, logits_per_text = outputs.logits_per_image, outputs.logits_per_text\n",
    "\n",
    "        # Calculate the symmetric InfoNCE loss\n",
    "        sim_image_text = logits_per_image / TEMPERATURE\n",
    "        sim_text_image = logits_per_text / TEMPERATURE\n",
    "\n",
    "        labels = torch.arange(sim_image_text.size(0), device=device)\n",
    "\n",
    "        # Calculate the loss for both image-to-text and text-to-image\n",
    "        loss_img = Floss.cross_entropy(sim_image_text, labels)\n",
    "        loss_txt = Floss.cross_entropy(sim_text_image, labels)\n",
    "\n",
    "        # Combine the losses and update total loss\n",
    "        loss = (loss_img + loss_txt) / 2\n",
    "        total_loss += loss.item()  # Accumulate the loss\n",
    "        loss.backward()\n",
    "        optimizer.step()\n",
    "    \n",
    "    avg_loss = total_loss / len(train_dataloader)  # Calculate average loss\n",
    "    print(f\"Epoch {epoch+1}/{EPOCH}, Total Loss: {total_loss}\")\n",
    "    print(f\"Epoch {epoch+1}/{EPOCH}, Average Loss: {avg_loss}\")"
   ]
  },
  {
   "cell_type": "code",
   "execution_count": 144,
   "metadata": {},
   "outputs": [
    {
     "name": "stderr",
     "output_type": "stream",
     "text": [
      "No artists with labels found to put in legend.  Note that artists whose label start with an underscore are ignored when legend() is called with no argument.\n"
     ]
    },
    {
     "data": {
      "image/png": "[encoded data removed]",
      "text/plain": [
       "<Figure size 900x400 with 1 Axes>"
      ]
     },
     "metadata": {},
     "output_type": "display_data"
    }
   ],
   "source": [
    "import numpy as np\n",
    "import matplotlib.pyplot as plt\n",
    "from scipy.optimize import curve_fit\n",
    "\n",
    "# Data\n",
    "epochs = np.array(range(1, 17))\n",
    "losses = np.array([2.7201081, 2.037461895, 1.915202904, 1.901985966, 1.781927386, \n",
    "                   1.713426403, 1.669924718, 1.659812765, 1.604798629, 1.562448905, \n",
    "                   1.518086743, 1.485711219, 1.46616415, 1.423164273, 1.382916131, 1.349751784])\n",
    "\n",
    "# Logarithmic fit function\n",
    "def log_fit(x, a, b):\n",
    "    return a + b * np.log(x)\n",
    "\n",
    "# Fit the logarithmic function to the data\n",
    "params, params_covariance = curve_fit(log_fit, epoch, losses)\n",
    "\n",
    "# Plotting the data\n",
    "font = {\"fontname\": \"Verdana\"}\n",
    "plt.figure(figsize=(9, 4))\n",
    "plt.scatter(epochs, losses, color='blue')\n",
    "plt.plot(epochs, log_fit(epochs, *params), color='teal')\n",
    "plt.title('Average loss per epoch as a function of epoch number', **font)\n",
    "plt.xlabel('Epoch', **font)\n",
    "plt.ylabel('Loss', **font)\n",
    "plt.ylim(1, 3)\n",
    "plt.legend()\n",
    "plt.grid(True)\n",
    "plt.show()"
   ]
  },
  {
   "cell_type": "markdown",
   "metadata": {},
   "source": [
    "# Testing fine-tuned models against baseline"
   ]
  },
  {
   "cell_type": "code",
   "execution_count": 148,
   "metadata": {},
   "outputs": [
    {
     "data": {
      "text/plain": [
       "<All keys matched successfully>"
      ]
     },
     "execution_count": 148,
     "metadata": {},
     "output_type": "execute_result"
    }
   ],
   "source": [
    "os.chdir(\"/Users/jamiemahowald/Documents/Python/Fine-tuning\")\n",
    "from transformers import CLIPProcessor, CLIPModel\n",
    "import requests\n",
    "processor = CLIPProcessor.from_pretrained(\"openai/clip-vit-base-patch32\") # Processor does not change\n",
    "model_base = CLIPModel.from_pretrained(\"openai/clip-vit-base-patch32\") # Model does not change\n",
    "model_ft = CLIPModel.from_pretrained(\"openai/clip-vit-base-patch32\") \n",
    "checkpoint = torch.load(\"fine_tuned_clip_epoch_2_bs8.pt\", map_location='cpu')\n",
    "model_ft.load_state_dict(checkpoint['model_state_dict'])"
   ]
  },
  {
   "cell_type": "code",
   "execution_count": 146,
   "metadata": {},
   "outputs": [],
   "source": [
    "txt_query = \"An antique sepia map of southern New England and Long Island\"\n",
    "img_query = \"https://tile.loc.gov/image-services/iiif/service:gmd:gmd372:g3720:g3720:ar079701/full/pct:12.5/0/default.jpg\""
   ]
  },
  {
   "cell_type": "code",
   "execution_count": 149,
   "metadata": {},
   "outputs": [
    {
     "name": "stdout",
     "output_type": "stream",
     "text": [
      "tensor([[0.3334]], grad_fn=<MmBackward0>)\n"
     ]
    }
   ],
   "source": [
    "# Base search\n",
    "text_preprocess = processor(text=txt_query, return_tensors=\"pt\", padding=True)\n",
    "text_embeds = model_base.get_text_features(**text_preprocess)\n",
    "text_embeds = text_embeds / text_embeds.norm(p=2, dim=-1, keepdim=True)\n",
    "\n",
    "image = Image.open(requests.get(img_query, stream=True).raw)\n",
    "img_preprocess = processor(images = image, return_tensors=\"pt\", padding=True) \n",
    "img_embeds = model_base.get_image_features(**img_preprocess) \n",
    "img_embeds = img_embeds / img_embeds.norm(p=2, dim=-1, keepdim=True)\n",
    "logits = torch.matmul(img_embeds, text_embeds.t())\n",
    "print(logits)"
   ]
  },
  {
   "cell_type": "code",
   "execution_count": 151,
   "metadata": {},
   "outputs": [
    {
     "name": "stdout",
     "output_type": "stream",
     "text": [
      "tensor([[0.2567]], grad_fn=<MmBackward0>)\n"
     ]
    }
   ],
   "source": [
    "# FT search\n",
    "text_preprocess = processor(text=txt_query, return_tensors=\"pt\", padding=True)\n",
    "text_embeds = model_ft.get_text_features(**text_preprocess)\n",
    "text_embeds = text_embeds / text_embeds.norm(p=2, dim=-1, keepdim=True)\n",
    "\n",
    "image = Image.open(requests.get(img_query, stream=True).raw)\n",
    "img_preprocess = processor(images = image, return_tensors=\"pt\", padding=True) \n",
    "img_embeds = model_ft.get_image_features(**img_preprocess) \n",
    "img_embeds = img_embeds / img_embeds.norm(p=2, dim=-1, keepdim=True)\n",
    "logits = torch.matmul(img_embeds, text_embeds.t())\n",
    "print(logits)"
   ]
  },
  {
   "cell_type": "code",
   "execution_count": 7,
   "metadata": {},
   "outputs": [],
   "source": [
    "import torch\n",
    "import os\n",
    "os.chdir(\"/Users/jamiemahowald/Documents/kluge-maps/fine-tuning\")\n",
    "list_image_path = torch.load(\"list_image_path.pt\")\n",
    "list_txt = torch.load(\"list_txt.pt\")\n",
    "# print(list_image_path)\n",
    "list_image_path = [f\"images/train/{path.split('/')[-1]}\" for path in list_image_path]\n",
    "\n",
    "torch.save(list_image_path, \"list_image_path.pt\")"
   ]
  }
 ],
 "metadata": {
  "kernelspec": {
   "display_name": "base",
   "language": "python",
   "name": "python3"
  },
  "language_info": {
   "codemirror_mode": {
    "name": "ipython",
    "version": 3
   },
   "file_extension": ".py",
   "mimetype": "text/x-python",
   "name": "python",
   "nbconvert_exporter": "python",
   "pygments_lexer": "ipython3",
   "version": "3.11.5"
  }
 },
 "nbformat": 4,
 "nbformat_minor": 2
}
